{
  "nbformat": 4,
  "nbformat_minor": 0,
  "metadata": {
    "colab": {
      "name": "GuessingGame.ipynb",
      "provenance": [],
      "include_colab_link": true
    },
    "kernelspec": {
      "display_name": "Python 3",
      "language": "python",
      "name": "python3"
    }
  },
  "cells": [
    {
      "cell_type": "markdown",
      "metadata": {
        "id": "view-in-github",
        "colab_type": "text"
      },
      "source": [
        "<a href=\"https://colab.research.google.com/github/mudra28/exp1/blob/main/IntroPython/Solutions/GuessingGame.ipynb\" target=\"_parent\"><img src=\"https://colab.research.google.com/assets/colab-badge.svg\" alt=\"Open In Colab\"/></a>"
      ]
    },
    {
      "cell_type": "markdown",
      "metadata": {
        "id": "wz5XcXIUlhMy"
      },
      "source": [
        "<img src=\"https://github.com/tproffen/ORCSGirlsPython/blob/master/Images/Logo.png?raw=1\" width=\"10%\" align=\"right\" hpsace=\"50\">\n",
        "\n",
        "# Introduction to Python\n",
        "\n",
        "## Solution - Guessing Game\n",
        "\n",
        "Here is **one** possible solution to the guessing game."
      ]
    },
    {
      "cell_type": "code",
      "metadata": {
        "id": "h4aGXzrklhM1",
        "outputId": "21d0ac57-b02d-4559-c972-4afb92189724",
        "colab": {
          "base_uri": "https://localhost:8080/"
        }
      },
      "source": [
        "import random\n",
        "\n",
        "secret = random.randint(1,20)\n",
        "\n",
        "guess = 0\n",
        "attempts = 0\n",
        "\n",
        "print (\"Guess the secret number (1 to 20)\")\n",
        "print (\"=================================\")\n",
        "print (\"\")\n",
        "\n",
        "while guess != secret:\n",
        "    attempts += 1\n",
        "\n",
        "    guess = input(\"Guess number: \")\n",
        "    guess = int(guess)\n",
        "\n",
        "    if (guess > secret):\n",
        "        print (\"Number is too high.\")\n",
        "    elif (guess < secret):\n",
        "        print (\"Number is too low.\")\n",
        "\n",
        "\n",
        "print (\"Congratulations, you guessed right !!\")\n",
        "print (\"Attempts used: \", attempts)\n"
      ],
      "execution_count": 1,
      "outputs": [
        {
          "output_type": "stream",
          "name": "stdout",
          "text": [
            "Guess the secret number (1 to 20)\n",
            "=================================\n",
            "\n",
            "Guess number: 8\n",
            "Number is too low.\n",
            "Guess number: 15\n",
            "Number is too high.\n",
            "Guess number: 10\n",
            "Number is too low.\n",
            "Guess number: 11\n",
            "Number is too low.\n",
            "Guess number: 12\n",
            "Congratulations, you guessed right !!\n",
            "Attempts used:  5\n"
          ]
        }
      ]
    },
    {
      "cell_type": "markdown",
      "metadata": {
        "collapsed": true,
        "id": "r4srCjs3lhM7"
      },
      "source": []
    }
  ]
}